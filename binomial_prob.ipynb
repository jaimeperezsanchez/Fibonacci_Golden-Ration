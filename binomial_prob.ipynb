{
  "nbformat": 4,
  "nbformat_minor": 0,
  "metadata": {
    "colab": {
      "name": "Untitled1.ipynb",
      "provenance": []
    },
    "kernelspec": {
      "name": "python3",
      "display_name": "Python 3"
    },
    "language_info": {
      "name": "python"
    }
  },
  "cells": [
    {
      "cell_type": "code",
      "metadata": {
        "colab": {
          "base_uri": "https://localhost:8080/",
          "height": 764
        },
        "id": "21gwgRLms0B3",
        "outputId": "96471b36-d1e4-4d81-817c-e4a14b248ce3"
      },
      "source": [
        "from scipy.stats import binom\n",
        "import seaborn as sns\n",
        "\n",
        "print('Input number of samples: ')\n",
        "n_elements = int(input())\n",
        "print('Input number of successes: ')\n",
        "n_success = int(input())\n",
        "print('Input success probability per sample: ')\n",
        "prob = float(input())\n",
        "\n",
        "r_values = list(range(1, n_elements+1))\n",
        "binom_prob = [binom.pmf(r, n_elements, prob) for r in r_values]\n",
        "\n",
        "print(f'\\nBinomial Probability P(X=x)= {binom_prob[n_success]:10f}')\n",
        "print(f'Cumulative Probability P(X<x)= {sum(binom_prob[:n_success-1]):10f}')\n",
        "print(f'Cumulative Probability P(X<=x)= {sum(binom_prob[:n_success]):10f}')\n",
        "print(f'Cumulative Probability P(X>x)= {sum(binom_prob[n_success-1:]):10f}')\n",
        "\n",
        "\n",
        "sns.set(rc={'figure.figsize':(16.7,8.27)})\n",
        "plot_prob = sns.barplot(r_values, binom_prob)\n",
        "labels = list(plot_prob.get_xticklabels())\n",
        "n_ticks = len(labels)//10\n",
        "labels = ['' if int((l.get_text()))%n_ticks != 0 else l for l in labels]\n",
        "plot_prob.set_xticklabels(labels)\n",
        "plot_prob"
      ],
      "execution_count": 65,
      "outputs": [
        {
          "output_type": "stream",
          "text": [
            "Input number of samples: \n",
            "100\n",
            "Input number of successes: \n",
            "50\n",
            "Input success probability per sample: \n",
            "0.5\n",
            "\n",
            "Binomial Probability P(X=x)=   0.078029\n",
            "Cumulative Probability P(X<x)=   0.460205\n",
            "Cumulative Probability P(X<=x)=   0.539795\n",
            "Cumulative Probability P(X>x)=   0.539795\n"
          ],
          "name": "stdout"
        },
        {
          "output_type": "stream",
          "text": [
            "/usr/local/lib/python3.7/dist-packages/seaborn/_decorators.py:43: FutureWarning: Pass the following variables as keyword args: x, y. From version 0.12, the only valid positional argument will be `data`, and passing other arguments without an explicit keyword will result in an error or misinterpretation.\n",
            "  FutureWarning\n"
          ],
          "name": "stderr"
        },
        {
          "output_type": "execute_result",
          "data": {
            "text/plain": [
              "<matplotlib.axes._subplots.AxesSubplot at 0x7f273e002550>"
            ]
          },
          "metadata": {
            "tags": []
          },
          "execution_count": 65
        },
        {
          "output_type": "display_data",
          "data": {
            "image/png": "[encoded data removed]",
            "text/plain": [
              "<Figure size 1202.4x595.44 with 1 Axes>"
            ]
          },
          "metadata": {
            "tags": []
          }
        }
      ]
    }
  ]
}